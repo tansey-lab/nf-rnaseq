{
 "cells": [
  {
   "cell_type": "markdown",
   "metadata": {},
   "source": [
    "# `nf_rnaseq` notebook\n",
    "\n",
    "The `nf_rnaseq` package can be used to query a number of databases and harmonize gene identifiers in the course of an RNA-seq analysis."
   ]
  },
  {
   "cell_type": "code",
   "execution_count": 1,
   "metadata": {},
   "outputs": [],
   "source": [
    "import pandas as pd\n",
    "from io import StringIO\n",
    "\n",
    "from nf_rnaseq import variables\n",
    "from nf_rnaseq.biomart import BioMart\n",
    "from nf_rnaseq.hgnc import HGNC\n",
    "from nf_rnaseq.uniprot import UniProt, UniProtPOST, UniProtGET\n",
    "from nf_rnaseq import load"
   ]
  },
  {
   "cell_type": "markdown",
   "metadata": {},
   "source": [
    "## Variables\n",
    "\n",
    "This module contains a dictionary for the default properties needed at instantiation of {class}`BioMart`, {class}`HGNC`, {class}`UniProt`, {class}`UniProtGET`, and {class}`UniProtPOST`.\n",
    "\n",
    "This package is optimized only to query the provided `url_base`, but the `term_in` and `term_out` can be modified."
   ]
  },
  {
   "cell_type": "code",
   "execution_count": 2,
   "metadata": {},
   "outputs": [
    {
     "data": {
      "text/plain": [
       "{'BioMart': {'GET': {'api_object': nf_rnaseq.biomart.BioMart,\n",
       "   'term_in': 'ensembl_transcript_id_version',\n",
       "   'term_out': 'external_gene_name',\n",
       "   'url_base': 'http://www.ensembl.org/biomart/martservice?query=<?xml version=\"1.0\" encoding=\"UTF-8\"?><!DOCTYPE Query><Query  virtualSchemaName = \"default\" formatter = \"TSV\" header = \"0\" uniqueRows = \"0\" count = \"\" datasetConfigVersion = \"0.6\" ><Dataset name = \"hsapiens_gene_ensembl\" interface = \"default\" ><Filter name = \"<TERM_IN>\" value = \"<IDS>\"/><Attribute name = \"<TERM_IN>\" /><Attribute name = \"<TERM_OUT>\" /></Dataset></Query>',\n",
       "   'headers': None}},\n",
       " 'HGNC': {'GET': {'api_object': nf_rnaseq.hgnc.HGNC,\n",
       "   'term_in': 'mane_select',\n",
       "   'term_out': 'symbol',\n",
       "   'url_base': 'https://rest.genenames.org/fetch',\n",
       "   'headers': \"{'Accept': 'application/json'}\"}},\n",
       " 'UniProt': {'GET': {'api_object': nf_rnaseq.uniprot.UniProt,\n",
       "   'term_in': 'UniProtKB_AC-ID',\n",
       "   'term_out': 'Gene_Name',\n",
       "   'url_base': 'https://rest.uniprot.org/uniprotkb',\n",
       "   'headers': None}},\n",
       " 'UniProtBULK': {'POST': {'api_object': nf_rnaseq.uniprot.UniProtPOST,\n",
       "   'term_in': 'UniProtKB_AC-ID',\n",
       "   'term_out': 'Gene_Name',\n",
       "   'url_base': 'https://rest.uniprot.org/idmapping/run'},\n",
       "  'GET': {'api_object': nf_rnaseq.uniprot.UniProtGET,\n",
       "   'term_in': 'UniProtKB_AC-ID',\n",
       "   'term_out': 'Gene_Name',\n",
       "   'url_base': 'https://rest.uniprot.org/idmapping/status',\n",
       "   'headers': None}}}"
      ]
     },
     "execution_count": 2,
     "metadata": {},
     "output_type": "execute_result"
    }
   ],
   "source": [
    "dict_databases = variables.DICT_DATABASES\n",
    "dict_databases"
   ]
  },
  {
   "cell_type": "markdown",
   "metadata": {},
   "source": [
    "<style>\n",
    "  table {\n",
    "    margin: auto;\n",
    "    width: 100%; /* Adjust the width as needed */\n",
    "  }\n",
    "  td {\n",
    "    text-align: justify;\n",
    "    padding: 8px; /* Adding padding for better readability */\n",
    "  }\n",
    "  th\n",
    "  {\n",
    "    text-align: center;\n",
    "  }\n",
    "</style>\n",
    "\n",
    "## API schema\n",
    "\n",
    "The use of the API clients is governed by a series of `ABC` and `dataclass` objects from the `api_schema` module whose inheritance, properties, and functions are described below:\n",
    "\n",
    "<ins>**{class}`APIClient`**</ins>\n",
    "\n",
    "Parent Class that governs all shared API client properties and functions\n",
    "    \n",
    "**Properties**\n",
    "\n",
    "<table>\n",
    "    <tr>\n",
    "        <th>Properties</th>\n",
    "        <th>Type (Default)</th>\n",
    "        <th>Description</th> \n",
    "    </tr>\n",
    "    <tr>\n",
    "        <td>identifier</td>\n",
    "        <td>str</td>\n",
    "        <td>String value containing search term or comma-delimited set of search terms</td>\n",
    "    </tr>\n",
    "    <tr>\n",
    "        <td>term_in</td>\n",
    "        <td>str (default: None)</td>\n",
    "        <td>Term to which to convert in query database</td>\n",
    "    </tr>\n",
    "    <tr>\n",
    "        <td>term_out</td>\n",
    "        <td>str (default: None)</td>\n",
    "        <td>Term to which to convert in query database</td>\n",
    "    </tr>\n",
    "</table>\n",
    "\n",
    "**Functions**\n",
    "\n",
    "+ {func}`APIClient.__post_init__`\n",
    "  \n",
    "+ {func}`APIClient.check_response`\n",
    "\n",
    "+ {func}`APIClient.process_identifier`\n",
    "\n",
    "+ {func}`APIClient.query_api` (`@abstractmethod`)\n",
    "\n",
    "<table>\n",
    "    <tr>\n",
    "        <th>Function</th>\n",
    "        <th>Description</th> \n",
    "    </tr>\n",
    "    <tr>\n",
    "        <td>__post_init__</td>\n",
    "        <td>Upon initialization, the `process_identifier` function is called</td>\n",
    "    </tr>\n",
    "    <tr>\n",
    "        <td>check_response</td>\n",
    "        <td>Raise for status with `requests` otherwise log error</td>\n",
    "    </tr>\n",
    "    <tr>\n",
    "        <td>process_identifier</td>\n",
    "        <td>For `identifier` strip [ and ], split on comma, strip extra spaces; save results as `identifier` and list version as `list_identifier`</td>\n",
    "    </tr>\n",
    "    <tr>\n",
    "        <td>query_api</td>\n",
    "        <td>Abstract method to query API implemented at level of sub-class</td>\n",
    "    </tr>\n",
    "</table>\n",
    "\n",
    "<br>\n",
    "\n",
    "<ins>**{class}`APIClientGET`**</ins>\n",
    "\n",
    "Child class of `APIClient` that provides basic `GET` functionality for HTTP requests\n",
    "\n",
    "**Additional properties**\n",
    "\n",
    "<table>\n",
    "    <tr>\n",
    "        <th>Properties</th>\n",
    "        <th>Type (Default)</th>\n",
    "        <th>Description</th> \n",
    "    </tr>\n",
    "    <tr>\n",
    "        <td>headers</td>\n",
    "        <td>str</td>\n",
    "        <td>String value containing search term or comma-delimited set of search terms</td>\n",
    "    </tr>\n",
    "    <tr>\n",
    "        <td>polling_interval</td>\n",
    "        <td>int (default: 5)</td>\n",
    "        <td>How often a poll check occurs for change of state, if necessary (e.g., GET after POST)</td>\n",
    "    </tr>\n",
    "</table>\n",
    "\n",
    "**Additional functions**\n",
    "\n",
    "+ {func}`APIClientGET.__post_init__`\n",
    "\n",
    "+ {func}`APIClientGET.query_api`\n",
    "\n",
    "+ {func}`APIClient.create_query_url` (`@abstractmethod`)\n",
    "\n",
    "+ {func}`APIClient.check_if_job_ready` (`@abstractmethod`)\n",
    "\n",
    "+ {func}`APIClient.maybe_get_gene_names` (`@abstractmethod`)\n",
    "\n",
    "<table>\n",
    "    <tr>\n",
    "        <th>Function</th>\n",
    "        <th>Description</th> \n",
    "    </tr>\n",
    "    <tr>\n",
    "        <td>__post_init__</td>\n",
    "        <td>Upon initialization, the `super().__post_init__`, `create_query_url`, `query_api`, and `maybe_get_gene_names` functions are called </td>\n",
    "    </tr>\n",
    "    <tr>\n",
    "        <td>query_api</td>\n",
    "        <td>Query API and add the output to `self.json` if json otherwise `self.text`</td>\n",
    "    </tr>\n",
    "    <tr>\n",
    "        <td>process_identifier (@abstractmethod)</td>\n",
    "        <td>Abstract method generate the URL to query implemented at level of sub-class</td>\n",
    "    </tr>\n",
    "    <tr>\n",
    "        <td>check_if_job_ready (@abstractmethod)</td>\n",
    "        <td>Abstract method generate check if job ready if POST necessary implemented at level of sub-class; should return `True` if needed and `False` otherwise</td>\n",
    "    </tr>\n",
    "    <tr>\n",
    "        <td>maybe_get_gene_names (@abstractmethod)</td>\n",
    "        <td>Abstract method generate check if job ready if POST necessary implemented at level of sub-class; should return `True` if needed and `False` otherwise</td>\n",
    "    </tr>\n",
    "</table>\n",
    "\n",
    "<br>\n",
    "\n",
    "<ins>**{class}`APIClientPOST`**</ins>\n",
    "\n",
    "Child class of `APIClient` that provides basic `POST` functionality for HTTP requests\n",
    "\n",
    "TODO"
   ]
  },
  {
   "cell_type": "markdown",
   "metadata": {},
   "source": [
    "## BioMart\n",
    "\n",
    "{class}`BioMart` is a child class of can be used to retrieve multiple comma-delimited entries from [Ensembl's BioMart](https://useast.ensembl.org/info/data/biomart/index.html). Note that the following will produce a `requests.exceptions.JSONDecodeError` but that the results of the API query will be stored in the `text` property of the {class}`BioMart` object instead of in the `json` property as a result."
   ]
  },
  {
   "cell_type": "code",
   "execution_count": 3,
   "metadata": {},
   "outputs": [
    {
     "name": "stderr",
     "output_type": "stream",
     "text": [
      "ERROR:root:Error at division\n",
      "Traceback (most recent call last):\n",
      "  File \"/home/whitej6/miniforge3/envs/nf_rna/lib/python3.11/site-packages/requests/models.py\", line 974, in json\n",
      "    return complexjson.loads(self.text, **kwargs)\n",
      "           ^^^^^^^^^^^^^^^^^^^^^^^^^^^^^^^^^^^^^^\n",
      "  File \"/home/whitej6/miniforge3/envs/nf_rna/lib/python3.11/json/__init__.py\", line 346, in loads\n",
      "    return _default_decoder.decode(s)\n",
      "           ^^^^^^^^^^^^^^^^^^^^^^^^^^\n",
      "  File \"/home/whitej6/miniforge3/envs/nf_rna/lib/python3.11/json/decoder.py\", line 337, in decode\n",
      "    obj, end = self.raw_decode(s, idx=_w(s, 0).end())\n",
      "               ^^^^^^^^^^^^^^^^^^^^^^^^^^^^^^^^^^^^^^\n",
      "  File \"/home/whitej6/miniforge3/envs/nf_rna/lib/python3.11/json/decoder.py\", line 355, in raw_decode\n",
      "    raise JSONDecodeError(\"Expecting value\", s, err.value) from None\n",
      "json.decoder.JSONDecodeError: Expecting value: line 1 column 1 (char 0)\n",
      "\n",
      "During handling of the above exception, another exception occurred:\n",
      "\n",
      "Traceback (most recent call last):\n",
      "  File \"/data1/tanseyw/projects/nf-rnaseq/src/nf_rnaseq/api_schema.py\", line 81, in query_api\n",
      "    self.json = response.json()\n",
      "                ^^^^^^^^^^^^^^^\n",
      "  File \"/home/whitej6/miniforge3/envs/nf_rna/lib/python3.11/site-packages/requests/models.py\", line 978, in json\n",
      "    raise RequestsJSONDecodeError(e.msg, e.doc, e.pos)\n",
      "requests.exceptions.JSONDecodeError: Expecting value: line 1 column 1 (char 0)\n"
     ]
    },
    {
     "data": {
      "text/html": [
       "<div>\n",
       "<style scoped>\n",
       "    .dataframe tbody tr th:only-of-type {\n",
       "        vertical-align: middle;\n",
       "    }\n",
       "\n",
       "    .dataframe tbody tr th {\n",
       "        vertical-align: top;\n",
       "    }\n",
       "\n",
       "    .dataframe thead th {\n",
       "        text-align: right;\n",
       "    }\n",
       "</style>\n",
       "<table border=\"1\" class=\"dataframe\">\n",
       "  <thead>\n",
       "    <tr style=\"text-align: right;\">\n",
       "      <th></th>\n",
       "      <th>original_id</th>\n",
       "      <th>gene_names</th>\n",
       "      <th>source</th>\n",
       "    </tr>\n",
       "  </thead>\n",
       "  <tbody>\n",
       "    <tr>\n",
       "      <th>0</th>\n",
       "      <td>ENST00000493287.5</td>\n",
       "      <td>[MRPL20]</td>\n",
       "      <td>BioMart</td>\n",
       "    </tr>\n",
       "    <tr>\n",
       "      <th>1</th>\n",
       "      <td>ENST00000582431.2</td>\n",
       "      <td>[RN7SL657P]</td>\n",
       "      <td>BioMart</td>\n",
       "    </tr>\n",
       "    <tr>\n",
       "      <th>2</th>\n",
       "      <td>ENST00000614007.1</td>\n",
       "      <td>[U6]</td>\n",
       "      <td>BioMart</td>\n",
       "    </tr>\n",
       "  </tbody>\n",
       "</table>\n",
       "</div>"
      ],
      "text/plain": [
       "         original_id   gene_names   source\n",
       "0  ENST00000493287.5     [MRPL20]  BioMart\n",
       "1  ENST00000582431.2  [RN7SL657P]  BioMart\n",
       "2  ENST00000614007.1         [U6]  BioMart"
      ]
     },
     "execution_count": 3,
     "metadata": {},
     "output_type": "execute_result"
    }
   ],
   "source": [
    "dict_biomart = dict_databases[\"BioMart\"][\"GET\"]\n",
    "biomart_obj = BioMart(\n",
    "    identifier=\"ENST00000614007.1,ENST00000493287.5,ENST00000582431.2\",\n",
    "    term_in=dict_biomart[\"term_in\"],\n",
    "    term_out=dict_biomart[\"term_out\"],\n",
    "    url_base=dict_biomart[\"url_base\"],\n",
    ")\n",
    "\n",
    "pd.DataFrame(\n",
    "    {\"original_id\": biomart_obj.list_identifier, \"gene_names\": biomart_obj.list_gene_names, \"source\": \"BioMart\"}\n",
    ")"
   ]
  },
  {
   "cell_type": "markdown",
   "metadata": {},
   "source": [
    "## HGNC\n",
    "\n",
    "{class}`HGNC` can be used to retrieve single entries from the Human Genome Nomenclature Committee's (HGNC) [API](https://www.genenames.org/help/rest). Allowable searchable fields can be found on their website."
   ]
  },
  {
   "cell_type": "code",
   "execution_count": 4,
   "metadata": {},
   "outputs": [
    {
     "data": {
      "text/html": [
       "<div>\n",
       "<style scoped>\n",
       "    .dataframe tbody tr th:only-of-type {\n",
       "        vertical-align: middle;\n",
       "    }\n",
       "\n",
       "    .dataframe tbody tr th {\n",
       "        vertical-align: top;\n",
       "    }\n",
       "\n",
       "    .dataframe thead th {\n",
       "        text-align: right;\n",
       "    }\n",
       "</style>\n",
       "<table border=\"1\" class=\"dataframe\">\n",
       "  <thead>\n",
       "    <tr style=\"text-align: right;\">\n",
       "      <th></th>\n",
       "      <th>original_id</th>\n",
       "      <th>gene_names</th>\n",
       "      <th>source</th>\n",
       "    </tr>\n",
       "  </thead>\n",
       "  <tbody>\n",
       "    <tr>\n",
       "      <th>0</th>\n",
       "      <td>NM_033360</td>\n",
       "      <td>KRAS</td>\n",
       "      <td>HGNC</td>\n",
       "    </tr>\n",
       "  </tbody>\n",
       "</table>\n",
       "</div>"
      ],
      "text/plain": [
       "  original_id gene_names source\n",
       "0   NM_033360       KRAS   HGNC"
      ]
     },
     "execution_count": 4,
     "metadata": {},
     "output_type": "execute_result"
    }
   ],
   "source": [
    "dict_hgnc = dict_databases[\"HGNC\"][\"GET\"]\n",
    "hgnc_obj = HGNC(\n",
    "    identifier=\"NM_033360\",\n",
    "    term_in=\"refseq_accession\",\n",
    "    term_out=\"symbol\",\n",
    "    url_base=dict_hgnc[\"url_base\"],\n",
    "    headers=dict_hgnc[\"headers\"],\n",
    ")\n",
    "\n",
    "pd.DataFrame({\"original_id\": hgnc_obj.list_identifier, \"gene_names\": hgnc_obj.list_gene_names, \"source\": \"HGNC\"})"
   ]
  },
  {
   "cell_type": "markdown",
   "metadata": {},
   "source": [
    "## UniProt\n",
    "\n",
    "### Single entry retrieval\n",
    "\n",
    "{class}`UniProt` can be used to retrieve single entries from UniProtKB's [individual entry API](https://www.uniprot.org/help/api_retrieve_entries)."
   ]
  },
  {
   "cell_type": "code",
   "execution_count": 5,
   "metadata": {},
   "outputs": [
    {
     "data": {
      "text/html": [
       "<div>\n",
       "<style scoped>\n",
       "    .dataframe tbody tr th:only-of-type {\n",
       "        vertical-align: middle;\n",
       "    }\n",
       "\n",
       "    .dataframe tbody tr th {\n",
       "        vertical-align: top;\n",
       "    }\n",
       "\n",
       "    .dataframe thead th {\n",
       "        text-align: right;\n",
       "    }\n",
       "</style>\n",
       "<table border=\"1\" class=\"dataframe\">\n",
       "  <thead>\n",
       "    <tr style=\"text-align: right;\">\n",
       "      <th></th>\n",
       "      <th>original_id</th>\n",
       "      <th>gene_names</th>\n",
       "      <th>source</th>\n",
       "    </tr>\n",
       "  </thead>\n",
       "  <tbody>\n",
       "    <tr>\n",
       "      <th>0</th>\n",
       "      <td>P24468</td>\n",
       "      <td>NR2F2</td>\n",
       "      <td>UniProt</td>\n",
       "    </tr>\n",
       "  </tbody>\n",
       "</table>\n",
       "</div>"
      ],
      "text/plain": [
       "  original_id gene_names   source\n",
       "0      P24468      NR2F2  UniProt"
      ]
     },
     "execution_count": 5,
     "metadata": {},
     "output_type": "execute_result"
    }
   ],
   "source": [
    "uniprot_obj = UniProt(\n",
    "    identifier=\"P24468\",\n",
    "    term_in=dict_databases[\"UniProt\"][\"GET\"][\"term_in\"],\n",
    "    term_out=dict_databases[\"UniProt\"][\"GET\"][\"term_out\"],\n",
    "    url_base=dict_databases[\"UniProt\"][\"GET\"][\"url_base\"],\n",
    ")\n",
    "\n",
    "pd.DataFrame(\n",
    "    {\"original_id\": uniprot_obj.list_identifier, \"gene_names\": uniprot_obj.list_gene_names, \"source\": \"UniProt\"}\n",
    ")"
   ]
  },
  {
   "cell_type": "markdown",
   "metadata": {},
   "source": [
    "### Bulk entry retrieval\n",
    "\n",
    "A combination of {class}`UniProtPOST` and {class}`UniProtGET` can be used to retrieve a large number of entries from UniProtKB's [ID mapping API](https://www.uniprot.org/help/id_mapping)."
   ]
  },
  {
   "cell_type": "code",
   "execution_count": 6,
   "metadata": {},
   "outputs": [
    {
     "data": {
      "text/html": [
       "<div>\n",
       "<style scoped>\n",
       "    .dataframe tbody tr th:only-of-type {\n",
       "        vertical-align: middle;\n",
       "    }\n",
       "\n",
       "    .dataframe tbody tr th {\n",
       "        vertical-align: top;\n",
       "    }\n",
       "\n",
       "    .dataframe thead th {\n",
       "        text-align: right;\n",
       "    }\n",
       "</style>\n",
       "<table border=\"1\" class=\"dataframe\">\n",
       "  <thead>\n",
       "    <tr style=\"text-align: right;\">\n",
       "      <th></th>\n",
       "      <th>original_id</th>\n",
       "      <th>gene_names</th>\n",
       "      <th>source</th>\n",
       "    </tr>\n",
       "  </thead>\n",
       "  <tbody>\n",
       "    <tr>\n",
       "      <th>0</th>\n",
       "      <td>P24468</td>\n",
       "      <td>[NR2F2]</td>\n",
       "      <td>UniProtBULK</td>\n",
       "    </tr>\n",
       "    <tr>\n",
       "      <th>1</th>\n",
       "      <td>C9J5X1</td>\n",
       "      <td>[IGF1R]</td>\n",
       "      <td>UniProtBULK</td>\n",
       "    </tr>\n",
       "    <tr>\n",
       "      <th>2</th>\n",
       "      <td>Q5W5X9</td>\n",
       "      <td>[TTC23]</td>\n",
       "      <td>UniProtBULK</td>\n",
       "    </tr>\n",
       "  </tbody>\n",
       "</table>\n",
       "</div>"
      ],
      "text/plain": [
       "  original_id gene_names       source\n",
       "0      P24468    [NR2F2]  UniProtBULK\n",
       "1      C9J5X1    [IGF1R]  UniProtBULK\n",
       "2      Q5W5X9    [TTC23]  UniProtBULK"
      ]
     },
     "execution_count": 6,
     "metadata": {},
     "output_type": "execute_result"
    }
   ],
   "source": [
    "str_id = \"P24468, C9J5X1, Q5W5X9\"\n",
    "str_db = \"UniProtBULK\"\n",
    "\n",
    "dict_post = dict_databases[str_db][\"POST\"]\n",
    "uniprot_post_obj = UniProtPOST(\n",
    "    identifier=str_id,\n",
    "    term_in=dict_post[\"term_in\"],\n",
    "    term_out=dict_post[\"term_out\"],\n",
    "    url_base=dict_post[\"url_base\"],\n",
    ")\n",
    "\n",
    "dict_get = dict_databases[str_db][\"GET\"]\n",
    "uniprot_get_obj = UniProtGET(\n",
    "    identifier=str_id,\n",
    "    term_in=dict_get[\"term_in\"],\n",
    "    term_out=dict_get[\"term_out\"],\n",
    "    url_base=dict_get[\"url_base\"],\n",
    "    jobId=uniprot_post_obj.jobId,\n",
    ")\n",
    "\n",
    "pd.DataFrame(\n",
    "    {\n",
    "        \"original_id\": uniprot_get_obj.list_identifier,\n",
    "        \"gene_names\": uniprot_get_obj.list_gene_names,\n",
    "        \"source\": \"UniProtBULK\",\n",
    "    }\n",
    ")"
   ]
  },
  {
   "attachments": {},
   "cell_type": "markdown",
   "metadata": {},
   "source": [
    "## Command line script\n",
    "\n",
    "The package also provides a command line script with the following inputs:\n",
    "\n",
    "- `cachePath`: path to store `requests_cache` object\n",
    "\n",
    "- `database`: keys in {dict}`variables.DICT_DATABASES` (BioMart, HGNC, UniProt, UniProtBULK)\n",
    "\n",
    "- `input`: identifier or comma delimited list of identifiers\n",
    "\n",
    "- `tsv`: a `store_true` flag; if True save as TSV otherwise save as CSV\n",
    "\n",
    "### CSV output\n",
    "```\n",
    "get_gene_name \\\\\n",
    "    -i <INPUT_IDS> \\\\\n",
    "    -d <DATABASE> \\\\\n",
    "    -c <CACHE_DIR> \\\\\n",
    "    > <FILE_NAME>.csv\n",
    "```"
   ]
  },
  {
   "cell_type": "code",
   "execution_count": 7,
   "metadata": {},
   "outputs": [
    {
     "name": "stdout",
     "output_type": "stream",
     "text": [
      "2024-08-16 15:32:01,025 - nf_rnaseq.cli.get_gene_name - INFO - Querying API for UniProtBULK\n",
      "2024-08-16 15:32:02,799 - nf_rnaseq.uniprot - INFO - \n",
      "30672867582f7e26860278d92bf5058a91631230\n",
      "{'results': [{'from': 'P24468', 'to': 'NR2F2'}, {'from': 'C9J5X1', 'to': 'IGF1R'}, {'from': 'Q5W5X9', 'to': 'TTC23'}], 'failedIds': []}\n",
      "2024-08-16 15:32:02,799 - nf_rnaseq.api_schema - INFO - \n",
      "P24468,C9J5X1,Q5W5X9\n",
      "{'results': [{'from': 'P24468', 'to': 'NR2F2'}, {'from': 'C9J5X1', 'to': 'IGF1R'}, {'from': 'Q5W5X9', 'to': 'TTC23'}], 'failedIds': []}\n",
      "\n",
      "P24468              ,['NR2F2']           ,UniProtBULK\n",
      "C9J5X1              ,['IGF1R']           ,UniProtBULK\n",
      "Q5W5X9              ,['TTC23']           ,UniProtBULK\n",
      "\n"
     ]
    }
   ],
   "source": [
    "!get_gene_name \\\n",
    "    -i \"P24468, C9J5X1, Q5W5X9\" \\\n",
    "    -d \"UniProtBULK\""
   ]
  },
  {
   "cell_type": "markdown",
   "metadata": {},
   "source": [
    "### TSV output\n",
    "```\n",
    "get_gene_name \\\\\n",
    "    -i <INPUT_IDS> \\\\\n",
    "    -d <DATABASE> \\\\\n",
    "    -c <CACHE_DIR> \\\\\n",
    "    -t \\\\\n",
    "    > <FILE_NAME>.tsv\n",
    "```"
   ]
  },
  {
   "cell_type": "code",
   "execution_count": 8,
   "metadata": {},
   "outputs": [
    {
     "name": "stdout",
     "output_type": "stream",
     "text": [
      "2024-08-16 15:32:06,455 - nf_rnaseq.cli.get_gene_name - INFO - Querying API for UniProtBULK\n",
      "2024-08-16 15:32:08,084 - nf_rnaseq.uniprot - INFO - \n",
      "30672867582f7e26860278d92bf5058a91631230\n",
      "{'results': [{'from': 'P24468', 'to': 'NR2F2'}, {'from': 'C9J5X1', 'to': 'IGF1R'}, {'from': 'Q5W5X9', 'to': 'TTC23'}], 'failedIds': []}\n",
      "2024-08-16 15:32:08,084 - nf_rnaseq.api_schema - INFO - \n",
      "P24468,C9J5X1,Q5W5X9\n",
      "{'results': [{'from': 'P24468', 'to': 'NR2F2'}, {'from': 'C9J5X1', 'to': 'IGF1R'}, {'from': 'Q5W5X9', 'to': 'TTC23'}], 'failedIds': []}\n",
      "\n",
      "P24468              \t['NR2F2']           \tUniProtBULK\n",
      "C9J5X1              \t['IGF1R']           \tUniProtBULK\n",
      "Q5W5X9              \t['TTC23']           \tUniProtBULK\n",
      "\n"
     ]
    }
   ],
   "source": [
    "!get_gene_name \\\n",
    "    -i \"P24468, C9J5X1, Q5W5X9\" \\\n",
    "    -d \"UniProtBULK\" \\\n",
    "    -t"
   ]
  },
  {
   "cell_type": "markdown",
   "metadata": {},
   "source": [
    "### Analysis\n",
    "\n",
    "The package also provides an analysis module for processing the resulting CSV and TSV files. For the purposes of visualization, these files have additional spaces . Moreover, the output IDs take the format of ."
   ]
  },
  {
   "cell_type": "code",
   "execution_count": 9,
   "metadata": {},
   "outputs": [
    {
     "data": {
      "text/html": [
       "<div>\n",
       "<style scoped>\n",
       "    .dataframe tbody tr th:only-of-type {\n",
       "        vertical-align: middle;\n",
       "    }\n",
       "\n",
       "    .dataframe tbody tr th {\n",
       "        vertical-align: top;\n",
       "    }\n",
       "\n",
       "    .dataframe thead th {\n",
       "        text-align: right;\n",
       "    }\n",
       "</style>\n",
       "<table border=\"1\" class=\"dataframe\">\n",
       "  <thead>\n",
       "    <tr style=\"text-align: right;\">\n",
       "      <th></th>\n",
       "      <th>original_id</th>\n",
       "      <th>gene_name</th>\n",
       "      <th>source</th>\n",
       "    </tr>\n",
       "  </thead>\n",
       "  <tbody>\n",
       "    <tr>\n",
       "      <th>0</th>\n",
       "      <td>P24468</td>\n",
       "      <td>[NR2F2]</td>\n",
       "      <td>UniProtBULK</td>\n",
       "    </tr>\n",
       "    <tr>\n",
       "      <th>1</th>\n",
       "      <td>C9J5X1</td>\n",
       "      <td>[IGF1R]</td>\n",
       "      <td>UniProtBULK</td>\n",
       "    </tr>\n",
       "    <tr>\n",
       "      <th>2</th>\n",
       "      <td>Q5W5X9</td>\n",
       "      <td>[TTC23]</td>\n",
       "      <td>UniProtBULK</td>\n",
       "    </tr>\n",
       "  </tbody>\n",
       "</table>\n",
       "</div>"
      ],
      "text/plain": [
       "  original_id gene_name       source\n",
       "0      P24468   [NR2F2]  UniProtBULK\n",
       "1      C9J5X1   [IGF1R]  UniProtBULK\n",
       "2      Q5W5X9   [TTC23]  UniProtBULK"
      ]
     },
     "execution_count": 9,
     "metadata": {},
     "output_type": "execute_result"
    }
   ],
   "source": [
    "str_tsv = \"\\\n",
    "P24468              \\t['NR2F2']           \\tUniProtBULK\\n\\\n",
    "C9J5X1              \\t['IGF1R']           \\tUniProtBULK\\n\\\n",
    "Q5W5X9              \\t['TTC23']           \\tUniProtBULK\\\n",
    "\"\n",
    "\n",
    "df_tsv = pd.read_table(StringIO(str_tsv), sep=\"\\t\", header=None)\n",
    "\n",
    "df_tsv.columns = [\"original_id\", \"gene_name\", \"source\"]\n",
    "\n",
    "df_tsv[\"original_id\"] = df_tsv[\"original_id\"].apply(lambda x: x.strip())\n",
    "df_tsv[\"gene_name\"] = df_tsv[\"gene_name\"].apply(load.literal_eval_list)\n",
    "df_tsv[\"source\"] = df_tsv[\"source\"].apply(lambda x: x.strip())\n",
    "\n",
    "df_tsv"
   ]
  }
 ],
 "metadata": {
  "kernelspec": {
   "display_name": "Python 3 (ipykernel)",
   "language": "python",
   "name": "python3"
  },
  "language_info": {
   "codemirror_mode": {
    "name": "ipython",
    "version": 3
   },
   "file_extension": ".py",
   "mimetype": "text/x-python",
   "name": "python",
   "nbconvert_exporter": "python",
   "pygments_lexer": "ipython3",
   "version": "3.11.9"
  },
  "vscode": {
   "interpreter": {
    "hash": "ae6466e8d4f517858789b5c9e8f0ed238fb8964458a36305fca7bddc149e9c64"
   }
  }
 },
 "nbformat": 4,
 "nbformat_minor": 4
}
